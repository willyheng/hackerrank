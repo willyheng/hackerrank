{
 "cells": [
  {
   "cell_type": "code",
   "execution_count": 38,
   "metadata": {},
   "outputs": [],
   "source": [
    "import pandas as pd\n",
    "import numpy as np\n",
    "from sklearn.pipeline import Pipeline\n",
    "from sklearn.feature_extraction.text import TfidfVectorizer\n",
    "\n",
    "from sklearn.naive_bayes import MultinomialNB\n",
    "from sklearn.linear_model import SGDClassifier, LogisticRegression, RidgeClassifier\n",
    "from sklearn.decomposition import TruncatedSVD\n",
    "from sklearn.ensemble import RandomForestClassifier\n",
    "from sklearn.preprocessing import StandardScaler\n",
    "from sklearn.base import TransformerMixin\n",
    "\n",
    "from sklearn.model_selection import cross_val_score\n",
    "from sklearn.metrics import balanced_accuracy_score, accuracy_score\n",
    "\n",
    "from sklearn.feature_extraction.text import CountVectorizer"
   ]
  },
  {
   "cell_type": "code",
   "execution_count": 5,
   "metadata": {},
   "outputs": [],
   "source": [
    "class DenseTransformer(TransformerMixin):\n",
    "\n",
    "    def fit(self, X, y=None, **fit_params):\n",
    "        return self\n",
    "\n",
    "    def transform(self, X, y=None, **fit_params):\n",
    "        return X.todense()"
   ]
  },
  {
   "cell_type": "code",
   "execution_count": 4,
   "metadata": {},
   "outputs": [],
   "source": [
    "dat = pd.read_csv(\"trainingdata.txt\", names = \"x\", sep = \";\", header = None, skiprows = 1)\n",
    "dat['label'] = dat['x'].str.extract(\"(^[1-8])\")\n",
    "dat['string'] = dat['x'].str.extract(\"^[1-8] (.+)\")\n",
    "dat.drop('x', axis = 1, inplace = True)"
   ]
  },
  {
   "cell_type": "code",
   "execution_count": null,
   "metadata": {},
   "outputs": [],
   "source": [
    "sg_clf = Pipeline([\n",
    "        ('count', CountVectorizer(max_features = 5000, binary = True)),\n",
    "   #     ('pca', TruncatedSVD(n_components = 100)),\n",
    "        ('clf', SGDClassifier(loss='hinge', penalty='l2',\n",
    "                           alpha=1e-5, random_state=42,\n",
    "                           max_iter=5, tol=None,\n",
    "                           class_weight = \"balanced\"))\n",
    "        ])\n",
    "                \n",
    "sg_clf.fit(dat['string'], dat['label'])\n",
    "                \n",
    "##### End classifier code\n",
    "n = int(input())\n",
    "for i in range(n):\n",
    "    s = input()    \n",
    "    print(sg_clf.predict(np.array([s])).item())"
   ]
  },
  {
   "cell_type": "markdown",
   "metadata": {},
   "source": [
    "### END SUBMISSION"
   ]
  },
  {
   "cell_type": "code",
   "execution_count": 82,
   "metadata": {},
   "outputs": [],
   "source": [
    "### List of other classifiers\n",
    "\n",
    "mn_clf = Pipeline([\n",
    "        ('tfidf', TfidfVectorizer(max_features = 5000)),\n",
    "        ('clf', MultinomialNB())\n",
    "        ])\n",
    "\n",
    "mn_clf.fit(dat['string'], dat['label'])\n",
    "\n",
    "\n",
    "   \n",
    "lg_clf = Pipeline([\n",
    "        ('tfidf', TfidfVectorizer(max_features = 5000)),\n",
    "        ('pca', TruncatedSVD(n_components = 100)),\n",
    "        ('clf', LogisticRegression(solver = \"lbfgs\",  max_iter = 100,\n",
    "                                   multi_class = 'multinomial',\n",
    "                                   class_weight = \"balanced\"))\n",
    "        ])\n",
    "    \n",
    "lg_clf.fit(dat['string'], dat['label'])  \n",
    "\n",
    "\n",
    "rfc_clf = Pipeline([\n",
    "        ('tfidf', TfidfVectorizer(max_features = 5000)),\n",
    "        ('pca', TruncatedSVD(n_components = 100)),\n",
    "        ('clf', RandomForestClassifier(n_estimators = 100, min_samples_leaf = 3,\n",
    "                                       class_weight = \"balanced\"))\n",
    "        ])\n",
    "    \n",
    "rfc_clf.fit(dat['string'], dat['label'])  \n",
    "\n",
    "ridge_clf = Pipeline([\n",
    "        ('tfidf', TfidfVectorizer(max_features = 5000)),\n",
    " #       ('pca', TruncatedSVD(n_components = 500)),\n",
    "         (\"to_dense\", DenseTransformer()),\n",
    "         #('scaler', StandardScaler()),\n",
    "        ('clf', RidgeClassifier(class_weight = \"balanced\"))\n",
    "        ])"
   ]
  },
  {
   "cell_type": "code",
   "execution_count": 29,
   "metadata": {},
   "outputs": [
    {
     "data": {
      "text/plain": [
       "Pipeline(memory=None,\n",
       "         steps=[('tfidf',\n",
       "                 TfidfVectorizer(analyzer='word', binary=False,\n",
       "                                 decode_error='strict',\n",
       "                                 dtype=<class 'numpy.float64'>,\n",
       "                                 encoding='utf-8', input='content',\n",
       "                                 lowercase=True, max_df=1.0, max_features=6000,\n",
       "                                 min_df=1, ngram_range=(1, 1), norm='l2',\n",
       "                                 preprocessor=None, smooth_idf=True,\n",
       "                                 stop_words=None, strip_accents=None,\n",
       "                                 sublinear_tf=False,\n",
       "                                 token_pattern='...\n",
       "                ('clf',\n",
       "                 SGDClassifier(alpha=1e-05, average=False,\n",
       "                               class_weight='balanced', early_stopping=False,\n",
       "                               epsilon=0.1, eta0=0.0, fit_intercept=True,\n",
       "                               l1_ratio=0.15, learning_rate='optimal',\n",
       "                               loss='hinge', max_iter=5, n_iter_no_change=5,\n",
       "                               n_jobs=None, penalty='l2', power_t=0.5,\n",
       "                               random_state=42, shuffle=True, tol=None,\n",
       "                               validation_fraction=0.1, verbose=0,\n",
       "                               warm_start=False))],\n",
       "         verbose=False)"
      ]
     },
     "execution_count": 29,
     "metadata": {},
     "output_type": "execute_result"
    }
   ],
   "source": [
    "sg_clf = Pipeline([\n",
    "        ('tfidf', TfidfVectorizer(max_features = 5000)),\n",
    "   #     ('pca', TruncatedSVD(n_components = 100)),\n",
    "        ('clf', SGDClassifier(loss='hinge', penalty='l2',\n",
    "                           alpha=1e-5, random_state=42,\n",
    "                           max_iter=5, tol=None,\n",
    "                           class_weight = \"balanced\"))\n",
    "        ])\n",
    "                \n",
    "sg_clf.fit(dat['string'], dat['label'])"
   ]
  },
  {
   "cell_type": "code",
   "execution_count": 40,
   "metadata": {},
   "outputs": [
    {
     "data": {
      "text/plain": [
       "0.9935422479948675"
      ]
     },
     "execution_count": 40,
     "metadata": {},
     "output_type": "execute_result"
    }
   ],
   "source": [
    "balanced_accuracy_score(dat['label'], sg_clf.predict(dat['string']))"
   ]
  },
  {
   "cell_type": "code",
   "execution_count": 37,
   "metadata": {},
   "outputs": [
    {
     "data": {
      "text/html": [
       "<div>\n",
       "<style scoped>\n",
       "    .dataframe tbody tr th:only-of-type {\n",
       "        vertical-align: middle;\n",
       "    }\n",
       "\n",
       "    .dataframe tbody tr th {\n",
       "        vertical-align: top;\n",
       "    }\n",
       "\n",
       "    .dataframe thead th {\n",
       "        text-align: right;\n",
       "    }\n",
       "</style>\n",
       "<table border=\"1\" class=\"dataframe\">\n",
       "  <thead>\n",
       "    <tr style=\"text-align: right;\">\n",
       "      <th></th>\n",
       "      <th>label</th>\n",
       "      <th>string</th>\n",
       "    </tr>\n",
       "  </thead>\n",
       "  <tbody>\n",
       "    <tr>\n",
       "      <td>177</td>\n",
       "      <td>2</td>\n",
       "      <td>redstone details sweetened viacom via offer investor sumner redstone who leads one of the two gr...</td>\n",
       "    </tr>\n",
       "    <tr>\n",
       "      <td>269</td>\n",
       "      <td>2</td>\n",
       "      <td>analysts see no other bidder for purolator pcc several analysts said they do not believe another...</td>\n",
       "    </tr>\n",
       "    <tr>\n",
       "      <td>1766</td>\n",
       "      <td>2</td>\n",
       "      <td>talking point purolator courier corp pcc purolator courier corp s stock rose on specualtion that...</td>\n",
       "    </tr>\n",
       "    <tr>\n",
       "      <td>5372</td>\n",
       "      <td>2</td>\n",
       "      <td>hutton efh ends purolator pcc bid emery air freight corp said it has entered into an agreement w...</td>\n",
       "    </tr>\n",
       "  </tbody>\n",
       "</table>\n",
       "</div>"
      ],
      "text/plain": [
       "     label  \\\n",
       "177      2   \n",
       "269      2   \n",
       "1766     2   \n",
       "5372     2   \n",
       "\n",
       "                                                                                                   string  \n",
       "177   redstone details sweetened viacom via offer investor sumner redstone who leads one of the two gr...  \n",
       "269   analysts see no other bidder for purolator pcc several analysts said they do not believe another...  \n",
       "1766  talking point purolator courier corp pcc purolator courier corp s stock rose on specualtion that...  \n",
       "5372  hutton efh ends purolator pcc bid emery air freight corp said it has entered into an agreement w...  "
      ]
     },
     "execution_count": 37,
     "metadata": {},
     "output_type": "execute_result"
    }
   ],
   "source": [
    "dat[dat['string'].str.contains('another') & dat['string'].str.contains('document')]"
   ]
  },
  {
   "cell_type": "code",
   "execution_count": 75,
   "metadata": {},
   "outputs": [
    {
     "data": {
      "text/html": [
       "<div>\n",
       "<style scoped>\n",
       "    .dataframe tbody tr th:only-of-type {\n",
       "        vertical-align: middle;\n",
       "    }\n",
       "\n",
       "    .dataframe tbody tr th {\n",
       "        vertical-align: top;\n",
       "    }\n",
       "\n",
       "    .dataframe thead th {\n",
       "        text-align: right;\n",
       "    }\n",
       "</style>\n",
       "<table border=\"1\" class=\"dataframe\">\n",
       "  <thead>\n",
       "    <tr style=\"text-align: right;\">\n",
       "      <th></th>\n",
       "      <th>label</th>\n",
       "      <th>string</th>\n",
       "    </tr>\n",
       "  </thead>\n",
       "  <tbody>\n",
       "    <tr>\n",
       "      <td>2128</td>\n",
       "      <td>1</td>\n",
       "      <td>tesco forecasts profits rise this year tesco plc tsco l said in a statement it expects pre tax profits of mln stg for the year ending february before nine mln stg of net property profits this compares with mln stg pretax profits and a net mln on property sales the previous year it said the forecast was in its formal offer document sent to hillards plc shareholders today on march tesco launched a mln stg bid for hillards the offer of new tesco ordinary shares for every hillards ordinary shares valued each hillards ordinary share at p reuter</td>\n",
       "    </tr>\n",
       "    <tr>\n",
       "      <td>269</td>\n",
       "      <td>2</td>\n",
       "      <td>analysts see no other bidder for purolator pcc several analysts said they do not believe another suitor will top the mln dlr bid for purolator courier corp by e f hutton lbo inc and a management group from purolator s courier division there had been speculation another offer might be forthcoming but analysts mostly believe the dlrs per share price being paid by hutton and the managers pc acquisition inc is fully valued analysts and some wall street sources said they doubted another bidder would emerge since purolator had been for sale for sometime before a deal was struck with hutton friday purolator s stock slipped today to close at it had been trading slightly higher than the dlr offer on friday at least one analyst friday speculated the company might fetch to dlrs per share analysts and wall street sources doubted a competitive offer would emerge since the company has been for sale for sometime before the deal with hutton was struck friday hutton had been in talks with purolator...</td>\n",
       "    </tr>\n",
       "    <tr>\n",
       "      <td>1766</td>\n",
       "      <td>2</td>\n",
       "      <td>talking point purolator courier corp pcc purolator courier corp s stock rose on specualtion that a disgruntled former purolator director would find a new suitor for the company traders said purolator agreed in late february to a dlr a share mln dlr offer from e f hutton lbo inc and certain members of its purolator courier division s management the stock today hit up one today purolator revealed in a filing with the securities and exchange commission that director doresy gardner resigned from its board of directors in a letter dated march the letter from gardner said he resigned the board because the merger agreement with hutton barred directors from soliciting new offers and he believes shareholders might get a better deal gardner said he believes a better offer might be found if the company would agree to be sold to some other entity or if it could sell off all or part of its u s courier division basically the courier division is a company that has mln dlrs in revenues it s a very...</td>\n",
       "    </tr>\n",
       "    <tr>\n",
       "      <td>2595</td>\n",
       "      <td>2</td>\n",
       "      <td>sec moves to discipline allegheny int l ag the securities and exchange commission sec staff is seeking authority to take enforcement action against allegheny international inc the pittsburgh based industrial and consumer products firm said allegheny made the disclosure in documents filed with the sec in connection with its recent agreement to be taken private through a leveraged buyout led by first boston inc following announcement of the merger agreement the company was informed by the enforcement division of the sec that it intends to seek authority from the commission to institute a proceeding against the company allegheny said the company is cooperating in the commission s investigation which is continuing and now includes the taking of testimony of employes and others allegheny said in the ongoing probe allegheny said the staff has asked for information about company executive compensation and benefit plans certain company owned real estate travel and entertainment spending an...</td>\n",
       "    </tr>\n",
       "    <tr>\n",
       "      <td>3551</td>\n",
       "      <td>2</td>\n",
       "      <td>norcros rejects mln stg bid from williams norcros plc ncro l the building products and packaging group said its board had no hesitation in unanimously rejecting this morning s mln stg bid from williams holdings plc the industrial holding firm the company said williams p per share offer was unsolicited and unwelcome and significantly undervalues norcros by gmt norcros shares were quoted at p up from p at yesterday s close williams was p higher at the norcros board s detailed views will be sent to shareholders when the formal offer document has been issued by williams reuter</td>\n",
       "    </tr>\n",
       "    <tr>\n",
       "      <td>4347</td>\n",
       "      <td>2</td>\n",
       "      <td>btr nylex raises offer for borg warner australia btr nylex ltd said it will increase its takeover offer for borg warner corp s bor listed unit borg warner australia ltd bwa to five dlrs each from four dlrs for all issued ordinary and preference shares the new offer values the diversified auto parts manufacturer s mln ordinary shares and mln first participating preference shares at mln dlrs formal documents will be sent to shareholders as soon as possible it said in a brief statement btr nylex which manufactures rubber and plastic products first bid for bwa in late january as previously reported borg warner corp which owns pct of bwa s ordinary shares and pct of the preferences advised a month ago that it would not accept the offer this meant btr nylex s pct acceptance condition could not be met bwa said in a statement reporting its parent s decision bwa advised shareholders to ignore the offer and said other parties had expressed interest in bidding for it but no other bid has yet ...</td>\n",
       "    </tr>\n",
       "    <tr>\n",
       "      <td>5040</td>\n",
       "      <td>2</td>\n",
       "      <td>standard oil srd committee tried to delay bid a committee of independent directors of the standard oil co unsuccessfully sought a delay in a tender offer for standard shares by british petroleum co plc according to offering documents bp s offering document for its dlr per share offer describes discussions with douglas danforth who chairs a special committee of independent directors responsible for monitoring relations with bp bp has been owner of a pct stake in standard for several years according to the document the committee s counsel said it needed one to two months to evaluate the offering price danforth who is chairman of the westinghouse electric co wx first learned of bp s interest in acquiring the rest of standard in a telephone call march five from sir peter walters chairman of bp at a meeting march nine danforth informed bp that the special committee had hired first boston corp fbc as its financial adviser and also retained independent counsel danforth s concerns that the...</td>\n",
       "    </tr>\n",
       "    <tr>\n",
       "      <td>1615</td>\n",
       "      <td>3</td>\n",
       "      <td>canada leaders fail to set pact on free trade prime minister brian mulroney said he held frank discussions with the canadian province premiers on the pace of free trade talks with the united states but the longstanding issue of provincial ratification remains to be settled speaking to reporters after nearly five hours of meetings with the premiers mulroney said further discussions would be held in june and september to discuss the role of the provinces in approving any new trade deal but he maintained progress was being made in the sweeping talks with the unites states that got under nearly two years ago it appears reasonable progress is being made in the talks mulroney said alberta premier don getty agreed things are running pretty quickly now the talks launched by mulroney s progressive conservative government after concerns about protectionist sentiment in the u s are aimed reducing the remaining barriers between the world s largest trading partnership but the provinces are expe...</td>\n",
       "    </tr>\n",
       "    <tr>\n",
       "      <td>3359</td>\n",
       "      <td>3</td>\n",
       "      <td>japan in last ditch effort to save chip pact japan has launched a last ditch effort to salvage its computer micro chip pact with the united states sending a letter to top american policy makers setting out its case and instructing its producers to cut output further we must make our utmost effort to ward off any catastrophe ministry of international trade and industry miti deputy director general masaji yamamoto told reporters if hasty action is taken in the united states it will create very serious problems the reagan administration s economic policy is expected to meet thursday to review japanese compliance with the bilateral agreement hammered out last year under the pact tokyo agreed to stop selling cut price chips in world markets and to increase its imports of american semiconductors washington has accused japan of reneging on the deal by selling low priced chips in asia and by failing to boost american imports and has threatened to take retaliatory action in an effort to sav...</td>\n",
       "    </tr>\n",
       "    <tr>\n",
       "      <td>2468</td>\n",
       "      <td>6</td>\n",
       "      <td>u k oil revenue forecast to fall in the u k government forecasts that oil revenues will fall to four billion stg in the fiscal year from billion in and billion in the forecast came in the treasury s financial statement and budget report issued after the chancellor of the exchequer nigel lawson s annual budget statement to parliament the government is assuming the price of oil will average dlrs a barrel in line with its earlier forecasts and its oil revenue calculation is based on an exchange rate remaining close to current levels the treasury document said the treasury said the oil revenue shortfall will reflect the oil price fall of as north sea corporation tax is paid after a time lag the statement calculated that a one dlr a barrel difference in oil prices this year will change revenue by about mln stg for the current fiscal year and mln stg in a full year oil production is forecast to fall slightly in according to the statement a change in one mln tonnes in production would alt...</td>\n",
       "    </tr>\n",
       "  </tbody>\n",
       "</table>\n",
       "</div>"
      ],
      "text/plain": [
       "     label  \\\n",
       "2128     1   \n",
       "269      2   \n",
       "1766     2   \n",
       "2595     2   \n",
       "3551     2   \n",
       "4347     2   \n",
       "5040     2   \n",
       "1615     3   \n",
       "3359     3   \n",
       "2468     6   \n",
       "\n",
       "                                                                                                                                                                                                                                                                                                                                                                                                                                                                                                                                                                                                                                                                                                                                                                                                                                                                                                                                                                                                                                       string  \n",
       "2128                                                                                                                                                                                                                                                                                                                                                                                                                                                                       tesco forecasts profits rise this year tesco plc tsco l said in a statement it expects pre tax profits of mln stg for the year ending february before nine mln stg of net property profits this compares with mln stg pretax profits and a net mln on property sales the previous year it said the forecast was in its formal offer document sent to hillards plc shareholders today on march tesco launched a mln stg bid for hillards the offer of new tesco ordinary shares for every hillards ordinary shares valued each hillards ordinary share at p reuter   \n",
       "269   analysts see no other bidder for purolator pcc several analysts said they do not believe another suitor will top the mln dlr bid for purolator courier corp by e f hutton lbo inc and a management group from purolator s courier division there had been speculation another offer might be forthcoming but analysts mostly believe the dlrs per share price being paid by hutton and the managers pc acquisition inc is fully valued analysts and some wall street sources said they doubted another bidder would emerge since purolator had been for sale for sometime before a deal was struck with hutton friday purolator s stock slipped today to close at it had been trading slightly higher than the dlr offer on friday at least one analyst friday speculated the company might fetch to dlrs per share analysts and wall street sources doubted a competitive offer would emerge since the company has been for sale for sometime before the deal with hutton was struck friday hutton had been in talks with purolator...  \n",
       "1766  talking point purolator courier corp pcc purolator courier corp s stock rose on specualtion that a disgruntled former purolator director would find a new suitor for the company traders said purolator agreed in late february to a dlr a share mln dlr offer from e f hutton lbo inc and certain members of its purolator courier division s management the stock today hit up one today purolator revealed in a filing with the securities and exchange commission that director doresy gardner resigned from its board of directors in a letter dated march the letter from gardner said he resigned the board because the merger agreement with hutton barred directors from soliciting new offers and he believes shareholders might get a better deal gardner said he believes a better offer might be found if the company would agree to be sold to some other entity or if it could sell off all or part of its u s courier division basically the courier division is a company that has mln dlrs in revenues it s a very...  \n",
       "2595  sec moves to discipline allegheny int l ag the securities and exchange commission sec staff is seeking authority to take enforcement action against allegheny international inc the pittsburgh based industrial and consumer products firm said allegheny made the disclosure in documents filed with the sec in connection with its recent agreement to be taken private through a leveraged buyout led by first boston inc following announcement of the merger agreement the company was informed by the enforcement division of the sec that it intends to seek authority from the commission to institute a proceeding against the company allegheny said the company is cooperating in the commission s investigation which is continuing and now includes the taking of testimony of employes and others allegheny said in the ongoing probe allegheny said the staff has asked for information about company executive compensation and benefit plans certain company owned real estate travel and entertainment spending an...  \n",
       "3551                                                                                                                                                                                                                                                                                                                                                                                                                                     norcros rejects mln stg bid from williams norcros plc ncro l the building products and packaging group said its board had no hesitation in unanimously rejecting this morning s mln stg bid from williams holdings plc the industrial holding firm the company said williams p per share offer was unsolicited and unwelcome and significantly undervalues norcros by gmt norcros shares were quoted at p up from p at yesterday s close williams was p higher at the norcros board s detailed views will be sent to shareholders when the formal offer document has been issued by williams reuter   \n",
       "4347  btr nylex raises offer for borg warner australia btr nylex ltd said it will increase its takeover offer for borg warner corp s bor listed unit borg warner australia ltd bwa to five dlrs each from four dlrs for all issued ordinary and preference shares the new offer values the diversified auto parts manufacturer s mln ordinary shares and mln first participating preference shares at mln dlrs formal documents will be sent to shareholders as soon as possible it said in a brief statement btr nylex which manufactures rubber and plastic products first bid for bwa in late january as previously reported borg warner corp which owns pct of bwa s ordinary shares and pct of the preferences advised a month ago that it would not accept the offer this meant btr nylex s pct acceptance condition could not be met bwa said in a statement reporting its parent s decision bwa advised shareholders to ignore the offer and said other parties had expressed interest in bidding for it but no other bid has yet ...  \n",
       "5040  standard oil srd committee tried to delay bid a committee of independent directors of the standard oil co unsuccessfully sought a delay in a tender offer for standard shares by british petroleum co plc according to offering documents bp s offering document for its dlr per share offer describes discussions with douglas danforth who chairs a special committee of independent directors responsible for monitoring relations with bp bp has been owner of a pct stake in standard for several years according to the document the committee s counsel said it needed one to two months to evaluate the offering price danforth who is chairman of the westinghouse electric co wx first learned of bp s interest in acquiring the rest of standard in a telephone call march five from sir peter walters chairman of bp at a meeting march nine danforth informed bp that the special committee had hired first boston corp fbc as its financial adviser and also retained independent counsel danforth s concerns that the...  \n",
       "1615  canada leaders fail to set pact on free trade prime minister brian mulroney said he held frank discussions with the canadian province premiers on the pace of free trade talks with the united states but the longstanding issue of provincial ratification remains to be settled speaking to reporters after nearly five hours of meetings with the premiers mulroney said further discussions would be held in june and september to discuss the role of the provinces in approving any new trade deal but he maintained progress was being made in the sweeping talks with the unites states that got under nearly two years ago it appears reasonable progress is being made in the talks mulroney said alberta premier don getty agreed things are running pretty quickly now the talks launched by mulroney s progressive conservative government after concerns about protectionist sentiment in the u s are aimed reducing the remaining barriers between the world s largest trading partnership but the provinces are expe...  \n",
       "3359  japan in last ditch effort to save chip pact japan has launched a last ditch effort to salvage its computer micro chip pact with the united states sending a letter to top american policy makers setting out its case and instructing its producers to cut output further we must make our utmost effort to ward off any catastrophe ministry of international trade and industry miti deputy director general masaji yamamoto told reporters if hasty action is taken in the united states it will create very serious problems the reagan administration s economic policy is expected to meet thursday to review japanese compliance with the bilateral agreement hammered out last year under the pact tokyo agreed to stop selling cut price chips in world markets and to increase its imports of american semiconductors washington has accused japan of reneging on the deal by selling low priced chips in asia and by failing to boost american imports and has threatened to take retaliatory action in an effort to sav...  \n",
       "2468  u k oil revenue forecast to fall in the u k government forecasts that oil revenues will fall to four billion stg in the fiscal year from billion in and billion in the forecast came in the treasury s financial statement and budget report issued after the chancellor of the exchequer nigel lawson s annual budget statement to parliament the government is assuming the price of oil will average dlrs a barrel in line with its earlier forecasts and its oil revenue calculation is based on an exchange rate remaining close to current levels the treasury document said the treasury said the oil revenue shortfall will reflect the oil price fall of as north sea corporation tax is paid after a time lag the statement calculated that a one dlr a barrel difference in oil prices this year will change revenue by about mln stg for the current fiscal year and mln stg in a full year oil production is forecast to fall slightly in according to the statement a change in one mln tonnes in production would alt...  "
      ]
     },
     "execution_count": 75,
     "metadata": {},
     "output_type": "execute_result"
    }
   ],
   "source": [
    "dat[dat['string'].str.contains(\"document\") & dat['string'].str.contains(\"a\") & dat['string'].str.contains(\"this\") & dat['string'].str.contains(\"is\")].sort_values('label')"
   ]
  },
  {
   "cell_type": "code",
   "execution_count": 81,
   "metadata": {},
   "outputs": [],
   "source": [
    "pred_input = [\"This is a document\", \"this is another document\", \"documents are seperated by newlines\", \n",
    "              \"Business means risk! Financial Institutions, for example, Bank gives business loans to customers. After giving business loans, how banks take steps to monitor and overcome the risks involved in the deal? Here comes the importance of Stock Statement. Why bank bother about the stock statement? Because, if you don't repay their amount taken as loan, bank has right to acquire your stocked goods or products and sell it out through auction method.\",\n",
    "              \"They wanted to know how the disbursed amount has been spent over the time by checking the net stock inwards vs net stock outwards of the products and its value including opening stock balance and closing stock balance in a particular period.\"]"
   ]
  },
  {
   "cell_type": "code",
   "execution_count": 80,
   "metadata": {},
   "outputs": [
    {
     "data": {
      "text/plain": [
       "array(['7', '7', '6', '2', '5'], dtype='<U1')"
      ]
     },
     "execution_count": 80,
     "metadata": {},
     "output_type": "execute_result"
    }
   ],
   "source": [
    "sg_clf.predict(pred_input)"
   ]
  },
  {
   "cell_type": "code",
   "execution_count": 65,
   "metadata": {},
   "outputs": [
    {
     "data": {
      "text/plain": [
       "0.9841337728275708"
      ]
     },
     "execution_count": 65,
     "metadata": {},
     "output_type": "execute_result"
    }
   ],
   "source": [
    "balanced_accuracy_score(dat['label'], sg_clf.predict(dat['string']))"
   ]
  }
 ],
 "metadata": {
  "kernelspec": {
   "display_name": "Python 3",
   "language": "python",
   "name": "python3"
  },
  "language_info": {
   "codemirror_mode": {
    "name": "ipython",
    "version": 3
   },
   "file_extension": ".py",
   "mimetype": "text/x-python",
   "name": "python",
   "nbconvert_exporter": "python",
   "pygments_lexer": "ipython3",
   "version": "3.7.4"
  }
 },
 "nbformat": 4,
 "nbformat_minor": 4
}
