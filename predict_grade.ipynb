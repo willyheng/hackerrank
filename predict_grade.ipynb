{
 "cells": [
  {
   "cell_type": "code",
   "execution_count": 96,
   "metadata": {},
   "outputs": [],
   "source": [
    "import pandas as pd, numpy as np\n",
    "import json\n",
    "\n",
    "from sklearn.pipeline import Pipeline\n",
    "from sklearn.preprocessing import StandardScaler\n",
    "from sklearn.model_selection import cross_val_score\n",
    "from sklearn.tree import DecisionTreeRegressor"
   ]
  },
  {
   "cell_type": "code",
   "execution_count": 82,
   "metadata": {},
   "outputs": [
    {
     "data": {
      "text/plain": [
       "(79465,\n",
       "    Physics  Chemistry  PhysicalEducation  English  Mathematics  serial  \\\n",
       " 0      8.0        7.0                3.0        4            6  195490   \n",
       " 1      1.0        1.0                1.0        3            3  190869   \n",
       " 2      1.0        2.0                2.0        1            2    3111   \n",
       " 3      8.0        7.0                6.0        7            7   47738   \n",
       " 4      1.0        1.0                1.0        3            2   85520   \n",
       " \n",
       "    Biology  Accountancy  BusinessStudies  Economics  ComputerScience  \n",
       " 0      NaN          NaN              NaN        NaN              NaN  \n",
       " 1      NaN          NaN              NaN        NaN              NaN  \n",
       " 2      NaN          NaN              NaN        NaN              NaN  \n",
       " 3      NaN          NaN              NaN        NaN              NaN  \n",
       " 4      NaN          NaN              NaN        NaN              NaN  )"
      ]
     },
     "execution_count": 82,
     "metadata": {},
     "output_type": "execute_result"
    }
   ],
   "source": [
    "folder = \"data/predict_missing_grade/\"\n",
    "# Read training data\n",
    "with open(folder + 'training.json') as train:\n",
    "    n = int(train.readlines(1)[0])\n",
    "    train_json = []\n",
    "    for i in range(n):\n",
    "        train_json.append(json.loads(train.readlines(1)[0].strip()))\n",
    "        \n",
    "train_all = pd.DataFrame(train_json)\n",
    "len(train_all), train_all.head()"
   ]
  },
  {
   "cell_type": "code",
   "execution_count": 83,
   "metadata": {},
   "outputs": [
    {
     "data": {
      "text/html": [
       "<div>\n",
       "<style scoped>\n",
       "    .dataframe tbody tr th:only-of-type {\n",
       "        vertical-align: middle;\n",
       "    }\n",
       "\n",
       "    .dataframe tbody tr th {\n",
       "        vertical-align: top;\n",
       "    }\n",
       "\n",
       "    .dataframe thead th {\n",
       "        text-align: right;\n",
       "    }\n",
       "</style>\n",
       "<table border=\"1\" class=\"dataframe\">\n",
       "  <thead>\n",
       "    <tr style=\"text-align: right;\">\n",
       "      <th></th>\n",
       "      <th>Physics</th>\n",
       "      <th>Chemistry</th>\n",
       "      <th>PhysicalEducation</th>\n",
       "      <th>English</th>\n",
       "      <th>Mathematics</th>\n",
       "      <th>Biology</th>\n",
       "      <th>Accountancy</th>\n",
       "      <th>BusinessStudies</th>\n",
       "      <th>Economics</th>\n",
       "      <th>ComputerScience</th>\n",
       "    </tr>\n",
       "    <tr>\n",
       "      <th>serial</th>\n",
       "      <th></th>\n",
       "      <th></th>\n",
       "      <th></th>\n",
       "      <th></th>\n",
       "      <th></th>\n",
       "      <th></th>\n",
       "      <th></th>\n",
       "      <th></th>\n",
       "      <th></th>\n",
       "      <th></th>\n",
       "    </tr>\n",
       "  </thead>\n",
       "  <tbody>\n",
       "    <tr>\n",
       "      <td>195490</td>\n",
       "      <td>8.0</td>\n",
       "      <td>7.0</td>\n",
       "      <td>3.0</td>\n",
       "      <td>4</td>\n",
       "      <td>6</td>\n",
       "      <td>3.599004</td>\n",
       "      <td>2.613672</td>\n",
       "      <td>2.893751</td>\n",
       "      <td>2.469142</td>\n",
       "      <td>3.87635</td>\n",
       "    </tr>\n",
       "    <tr>\n",
       "      <td>190869</td>\n",
       "      <td>1.0</td>\n",
       "      <td>1.0</td>\n",
       "      <td>1.0</td>\n",
       "      <td>3</td>\n",
       "      <td>3</td>\n",
       "      <td>3.599004</td>\n",
       "      <td>2.613672</td>\n",
       "      <td>2.893751</td>\n",
       "      <td>2.469142</td>\n",
       "      <td>3.87635</td>\n",
       "    </tr>\n",
       "    <tr>\n",
       "      <td>3111</td>\n",
       "      <td>1.0</td>\n",
       "      <td>2.0</td>\n",
       "      <td>2.0</td>\n",
       "      <td>1</td>\n",
       "      <td>2</td>\n",
       "      <td>3.599004</td>\n",
       "      <td>2.613672</td>\n",
       "      <td>2.893751</td>\n",
       "      <td>2.469142</td>\n",
       "      <td>3.87635</td>\n",
       "    </tr>\n",
       "    <tr>\n",
       "      <td>47738</td>\n",
       "      <td>8.0</td>\n",
       "      <td>7.0</td>\n",
       "      <td>6.0</td>\n",
       "      <td>7</td>\n",
       "      <td>7</td>\n",
       "      <td>3.599004</td>\n",
       "      <td>2.613672</td>\n",
       "      <td>2.893751</td>\n",
       "      <td>2.469142</td>\n",
       "      <td>3.87635</td>\n",
       "    </tr>\n",
       "    <tr>\n",
       "      <td>85520</td>\n",
       "      <td>1.0</td>\n",
       "      <td>1.0</td>\n",
       "      <td>1.0</td>\n",
       "      <td>3</td>\n",
       "      <td>2</td>\n",
       "      <td>3.599004</td>\n",
       "      <td>2.613672</td>\n",
       "      <td>2.893751</td>\n",
       "      <td>2.469142</td>\n",
       "      <td>3.87635</td>\n",
       "    </tr>\n",
       "  </tbody>\n",
       "</table>\n",
       "</div>"
      ],
      "text/plain": [
       "        Physics  Chemistry  PhysicalEducation  English  Mathematics   Biology  \\\n",
       "serial                                                                          \n",
       "195490      8.0        7.0                3.0        4            6  3.599004   \n",
       "190869      1.0        1.0                1.0        3            3  3.599004   \n",
       "3111        1.0        2.0                2.0        1            2  3.599004   \n",
       "47738       8.0        7.0                6.0        7            7  3.599004   \n",
       "85520       1.0        1.0                1.0        3            2  3.599004   \n",
       "\n",
       "        Accountancy  BusinessStudies  Economics  ComputerScience  \n",
       "serial                                                            \n",
       "195490     2.613672         2.893751   2.469142          3.87635  \n",
       "190869     2.613672         2.893751   2.469142          3.87635  \n",
       "3111       2.613672         2.893751   2.469142          3.87635  \n",
       "47738      2.613672         2.893751   2.469142          3.87635  \n",
       "85520      2.613672         2.893751   2.469142          3.87635  "
      ]
     },
     "execution_count": 83,
     "metadata": {},
     "output_type": "execute_result"
    }
   ],
   "source": [
    "train_filled = train_all.fillna(train_all.mean()).set_index('serial')\n",
    "train_filled.head()"
   ]
  },
  {
   "cell_type": "code",
   "execution_count": 84,
   "metadata": {},
   "outputs": [
    {
     "data": {
      "text/plain": [
       "(        Physics  Chemistry  PhysicalEducation  English   Biology  Accountancy  \\\n",
       " serial                                                                          \n",
       " 195490      8.0        7.0                3.0        4  3.599004     2.613672   \n",
       " 190869      1.0        1.0                1.0        3  3.599004     2.613672   \n",
       " 3111        1.0        2.0                2.0        1  3.599004     2.613672   \n",
       " 47738       8.0        7.0                6.0        7  3.599004     2.613672   \n",
       " 85520       1.0        1.0                1.0        3  3.599004     2.613672   \n",
       " \n",
       "         BusinessStudies  Economics  ComputerScience  \n",
       " serial                                               \n",
       " 195490         2.893751   2.469142          3.87635  \n",
       " 190869         2.893751   2.469142          3.87635  \n",
       " 3111           2.893751   2.469142          3.87635  \n",
       " 47738          2.893751   2.469142          3.87635  \n",
       " 85520          2.893751   2.469142          3.87635  , serial\n",
       " 195490    6\n",
       " 190869    3\n",
       " 3111      2\n",
       " 47738     7\n",
       " 85520     2\n",
       " Name: Mathematics, dtype: int64)"
      ]
     },
     "execution_count": 84,
     "metadata": {},
     "output_type": "execute_result"
    }
   ],
   "source": [
    "train_subj = ['Physics', 'Chemistry', 'PhysicalEducation', 'English', 'Biology', 'Accountancy', 'BusinessStudies', 'Economics', 'ComputerScience']\n",
    "X_train = train_filled[train_subj]\n",
    "y_train = train_filled['Mathematics']\n",
    "X_train.head(), y_train.head()"
   ]
  },
  {
   "cell_type": "code",
   "execution_count": 85,
   "metadata": {},
   "outputs": [
    {
     "data": {
      "text/plain": [
       "(69530,\n",
       "    Physics  Chemistry  Biology  English  serial  ComputerScience  Accountancy  \\\n",
       " 0      2.0        2.0      1.0        1  221375              NaN          NaN   \n",
       " 1      3.0        3.0      NaN        4  150188              4.0          NaN   \n",
       " 2      NaN        NaN      NaN        1   12154              NaN          1.0   \n",
       " 3      2.0        2.0      NaN        1   31442              2.0          NaN   \n",
       " 4      NaN        NaN      NaN        2  137253              NaN          5.0   \n",
       " \n",
       "    BusinessStudies  Economics  PhysicalEducation  \n",
       " 0              NaN        NaN                NaN  \n",
       " 1              NaN        NaN                NaN  \n",
       " 2              1.0        3.0                NaN  \n",
       " 3              NaN        NaN                NaN  \n",
       " 4              4.0        3.0                NaN  )"
      ]
     },
     "execution_count": 85,
     "metadata": {},
     "output_type": "execute_result"
    }
   ],
   "source": [
    "# Read test cases data from file\n",
    "with open(folder + 'sample-test.in.json') as test:\n",
    "    n = int(test.readlines(1)[0])\n",
    "    test_json = []\n",
    "    for i in range(n):\n",
    "        test_json.append(json.loads(test.readlines(1)[0].strip()))\n",
    "        \n",
    "test_all = pd.DataFrame(test_json)\n",
    "len(test_all), test_all.head()"
   ]
  },
  {
   "cell_type": "code",
   "execution_count": null,
   "metadata": {},
   "outputs": [],
   "source": [
    "# Read test cases data from STDIN\n",
    "n = int(input())\n",
    "test_json = []\n",
    "for i in range(n):\n",
    "    test_json.append(json.loads(input()))\n",
    "        \n",
    "test_all = pd.DataFrame(test_json)\n",
    "len(test_all), test_all.head()"
   ]
  },
  {
   "cell_type": "code",
   "execution_count": 87,
   "metadata": {},
   "outputs": [
    {
     "data": {
      "text/html": [
       "<div>\n",
       "<style scoped>\n",
       "    .dataframe tbody tr th:only-of-type {\n",
       "        vertical-align: middle;\n",
       "    }\n",
       "\n",
       "    .dataframe tbody tr th {\n",
       "        vertical-align: top;\n",
       "    }\n",
       "\n",
       "    .dataframe thead th {\n",
       "        text-align: right;\n",
       "    }\n",
       "</style>\n",
       "<table border=\"1\" class=\"dataframe\">\n",
       "  <thead>\n",
       "    <tr style=\"text-align: right;\">\n",
       "      <th></th>\n",
       "      <th>Physics</th>\n",
       "      <th>Chemistry</th>\n",
       "      <th>PhysicalEducation</th>\n",
       "      <th>English</th>\n",
       "      <th>Biology</th>\n",
       "      <th>Accountancy</th>\n",
       "      <th>BusinessStudies</th>\n",
       "      <th>Economics</th>\n",
       "      <th>ComputerScience</th>\n",
       "    </tr>\n",
       "  </thead>\n",
       "  <tbody>\n",
       "    <tr>\n",
       "      <td>0</td>\n",
       "      <td>2.000000</td>\n",
       "      <td>2.000000</td>\n",
       "      <td>3.186032</td>\n",
       "      <td>1</td>\n",
       "      <td>1.000000</td>\n",
       "      <td>2.613672</td>\n",
       "      <td>2.893751</td>\n",
       "      <td>2.469142</td>\n",
       "      <td>3.87635</td>\n",
       "    </tr>\n",
       "    <tr>\n",
       "      <td>1</td>\n",
       "      <td>3.000000</td>\n",
       "      <td>3.000000</td>\n",
       "      <td>3.186032</td>\n",
       "      <td>4</td>\n",
       "      <td>3.599004</td>\n",
       "      <td>2.613672</td>\n",
       "      <td>2.893751</td>\n",
       "      <td>2.469142</td>\n",
       "      <td>4.00000</td>\n",
       "    </tr>\n",
       "    <tr>\n",
       "      <td>2</td>\n",
       "      <td>3.992593</td>\n",
       "      <td>3.983971</td>\n",
       "      <td>3.186032</td>\n",
       "      <td>1</td>\n",
       "      <td>3.599004</td>\n",
       "      <td>1.000000</td>\n",
       "      <td>1.000000</td>\n",
       "      <td>3.000000</td>\n",
       "      <td>3.87635</td>\n",
       "    </tr>\n",
       "    <tr>\n",
       "      <td>3</td>\n",
       "      <td>2.000000</td>\n",
       "      <td>2.000000</td>\n",
       "      <td>3.186032</td>\n",
       "      <td>1</td>\n",
       "      <td>3.599004</td>\n",
       "      <td>2.613672</td>\n",
       "      <td>2.893751</td>\n",
       "      <td>2.469142</td>\n",
       "      <td>2.00000</td>\n",
       "    </tr>\n",
       "    <tr>\n",
       "      <td>4</td>\n",
       "      <td>3.992593</td>\n",
       "      <td>3.983971</td>\n",
       "      <td>3.186032</td>\n",
       "      <td>2</td>\n",
       "      <td>3.599004</td>\n",
       "      <td>5.000000</td>\n",
       "      <td>4.000000</td>\n",
       "      <td>3.000000</td>\n",
       "      <td>3.87635</td>\n",
       "    </tr>\n",
       "  </tbody>\n",
       "</table>\n",
       "</div>"
      ],
      "text/plain": [
       "    Physics  Chemistry  PhysicalEducation  English   Biology  Accountancy  \\\n",
       "0  2.000000   2.000000           3.186032        1  1.000000     2.613672   \n",
       "1  3.000000   3.000000           3.186032        4  3.599004     2.613672   \n",
       "2  3.992593   3.983971           3.186032        1  3.599004     1.000000   \n",
       "3  2.000000   2.000000           3.186032        1  3.599004     2.613672   \n",
       "4  3.992593   3.983971           3.186032        2  3.599004     5.000000   \n",
       "\n",
       "   BusinessStudies  Economics  ComputerScience  \n",
       "0         2.893751   2.469142          3.87635  \n",
       "1         2.893751   2.469142          4.00000  \n",
       "2         1.000000   3.000000          3.87635  \n",
       "3         2.893751   2.469142          2.00000  \n",
       "4         4.000000   3.000000          3.87635  "
      ]
     },
     "execution_count": 87,
     "metadata": {},
     "output_type": "execute_result"
    }
   ],
   "source": [
    "test_filled = test_all.fillna(train_all.mean())\n",
    "X_test = test_filled[train_subj]\n",
    "X_test.head()"
   ]
  },
  {
   "cell_type": "code",
   "execution_count": 97,
   "metadata": {},
   "outputs": [
    {
     "name": "stdout",
     "output_type": "stream",
     "text": [
      "CPU times: user 599 ms, sys: 13.2 ms, total: 612 ms\n",
      "Wall time: 178 ms\n"
     ]
    },
    {
     "data": {
      "text/plain": [
       "1.0214056502862896"
      ]
     },
     "execution_count": 97,
     "metadata": {},
     "output_type": "execute_result"
    }
   ],
   "source": [
    "%%time\n",
    "clf = Pipeline([\n",
    "    ('std', StandardScaler()),\n",
    "    ('clf', DecisionTreeRegressor())\n",
    "])\n",
    "\n",
    "clf.fit(X_train, y_train)\n",
    "np.mean(np.abs(np.round(clf.predict(X_train)) - y_train))"
   ]
  },
  {
   "cell_type": "code",
   "execution_count": 90,
   "metadata": {},
   "outputs": [
    {
     "data": {
      "text/plain": [
       "array([3., 4., 3., ..., 4., 5., 5.])"
      ]
     },
     "execution_count": 90,
     "metadata": {},
     "output_type": "execute_result"
    }
   ],
   "source": [
    "for x in np.round(clf.predict(X_test)):\n",
    "    print(int(x))"
   ]
  },
  {
   "cell_type": "code",
   "execution_count": null,
   "metadata": {},
   "outputs": [],
   "source": []
  }
 ],
 "metadata": {
  "kernelspec": {
   "display_name": "Python 3",
   "language": "python",
   "name": "python3"
  },
  "language_info": {
   "codemirror_mode": {
    "name": "ipython",
    "version": 3
   },
   "file_extension": ".py",
   "mimetype": "text/x-python",
   "name": "python",
   "nbconvert_exporter": "python",
   "pygments_lexer": "ipython3",
   "version": "3.7.4"
  }
 },
 "nbformat": 4,
 "nbformat_minor": 4
}
